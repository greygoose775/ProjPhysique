{
 "cells": [
  {
   "cell_type": "code",
   "execution_count": 1,
   "id": "62a5b2dd",
   "metadata": {},
   "outputs": [],
   "source": [
    "import numpy as np\n",
    "from matplotlib import pyplot as plt\n",
    "from scipy.optimize import fsolve"
   ]
  },
  {
   "cell_type": "markdown",
   "id": "ff617367",
   "metadata": {},
   "source": [
    "Remarque : Pour cette simulation on se place dans le cas $\\alpha = 0$, la probabilité d'un contrôle fiscal est nulle"
   ]
  },
  {
   "cell_type": "code",
   "execution_count": 45,
   "id": "1005c8a7",
   "metadata": {
    "id": "MIh_lZOdnScw"
   },
   "outputs": [],
   "source": [
    "class RFIM_irrational(object):\n",
    "    '''Cette classe va simuler le model d'Isling présenté par la thèse '''\n",
    "    \n",
    "    def __init__(self, beta, J, H, N):\n",
    "        #On commence par générer aléatoirement une grille S comportant les sigma_i \n",
    "        #puis une matrice \"matJ\" comportant les valeurs des forces ferromagnétiques\n",
    "        self.J = J\n",
    "        self.F = F\n",
    "        self.N = N\n",
    "        self.S = np.random.choice([-1,1], size = [N,N])\n",
    "        self.matJ = np.random.choice([-J,0,J], size = [N,N])\n",
    "        self.h = H/6\n",
    "        \n",
    "    \n",
    "    def eng(self, a, b):\n",
    "        acc1, acc2 = 0 , 0\n",
    "        S0 = self.S[a,b]\n",
    "        nb = self.S[(a+1)%N, b]*self.matJ[(a+1)%N, b] + self.S[a,(b+1)%N]*self.matJ[(a+1)%N, b] + self.S[(a-1)%N, b]*self.matJ[(a-1)%N, b] + self.S[a,(b-1)%N]*self.matJ[a,(b-1)%N]\n",
    "        acc1 += -nb*S0\n",
    "        acc2+= self.h*S0\n",
    "        return acc1 + acc2  #Cette méthode renvoie l'énergie nécessaire à un changement de spin\n",
    "    \n",
    "    def flip(self,a, b): #Cette méthode détermine si la particule située en [a,b] peut tourner ou non\n",
    "        u_i0 = self.eng(a, b) \n",
    "        prob_flip = 1/(1 + np.exp(beta*u_i0)) # En appliquant l'équation (6) de l'article\n",
    "        \n",
    "        if np.random.random() < prob_flip:\n",
    "            self.S[a, b] *= -1\n",
    "            return 1\n",
    "        else:\n",
    "            return 0\n",
    "    \n",
    "    def sweep(self):\n",
    "        s = 0\n",
    "        elements1 = list(range(N))\n",
    "        elements2 = list(range(N))\n",
    "        np.random.shuffle(elements1)\n",
    "        np.random.shuffle(elements2)\n",
    "        for a in elements1:\n",
    "            for b in elements2:\n",
    "                s += self.flip(a, b)\n",
    "        return s                    #Cette méthode parcourt tous les élements aléatoirement de la grille\n",
    "                                    # et tente de changer leurs spins.\n",
    "    \n",
    "    \n",
    "    def equilibrate(self): \n",
    "        flips = self.sweep()\n",
    "        count = 0\n",
    "        while count < 100:\n",
    "            flips = self.sweep()\n",
    "            count += 1            #Cette méhode permet de balayer un grand nombre de fois la grille afin d'obtenir une position d'equilibre"
   ]
  },
  {
   "cell_type": "code",
   "execution_count": 46,
   "id": "c4350eb9",
   "metadata": {
    "id": "XW0RJrdusa77"
   },
   "outputs": [],
   "source": [
    "J = 1\n",
    "N = 10\n",
    "F = 100000000\n",
    "M = 1 # number of repetitions\n",
    "beta = 1\n",
    "beta2 = beta/2.5\n",
    "beta3 = beta/5.0\n",
    "beta4 = beta/7.5"
   ]
  },
  {
   "cell_type": "code",
   "execution_count": 47,
   "id": "0daf2285",
   "metadata": {},
   "outputs": [],
   "source": [
    "def fev(l):\n",
    "    acc = 0\n",
    "    for i in l:\n",
    "        for elem in i:\n",
    "            if elem < 1 :\n",
    "               acc+=1\n",
    "    return(acc/(len(l)**2)) # this function finds the Fractional evasion of a system"
   ]
  },
  {
   "cell_type": "code",
   "execution_count": null,
   "id": "fea6ea77",
   "metadata": {},
   "outputs": [],
   "source": [
    "x = np.linspace(0, 30, num = 10)\n",
    "y1, y2, y3, y4 = [], [], [], []\n",
    "for x0 in x:\n",
    "    acc1, acc2, acc3, acc4 = [], [], [], []\n",
    "    for indice in range(150): # On travaille avec des moyennes afin de rendre la simulation plus précise\n",
    "        sim1 = RFIM_irrational(beta,J,x0,N)\n",
    "        sim1.equilibrate()\n",
    "        acc1.append(fev(sim1.S))\n",
    "        \n",
    "        sim2 = RFIM_irrational(beta2,J,x0,N)\n",
    "        sim2.equilibrate()\n",
    "        acc2.append(fev(sim2.S))\n",
    "        \n",
    "        sim3 = RFIM_irrational(beta3,J,x0,N)\n",
    "        sim3.equilibrate()\n",
    "        acc3.append(fev(sim3.S))\n",
    "        \n",
    "        sim4 = RFIM_irrational(beta4,J,x0,N)\n",
    "        sim4.equilibrate()\n",
    "        acc4.append(fev(sim4.S))\n",
    "        \n",
    "    y1.append(np.mean(acc1))\n",
    "    y2.append(np.mean(acc2))\n",
    "    y3.append(np.mean(acc3))\n",
    "    y4.append(np.mean(acc4))\n",
    "    \n"
   ]
  },
  {
   "cell_type": "code",
   "execution_count": 42,
   "id": "36cb4bfe",
   "metadata": {},
   "outputs": [
    {
     "data": {
      "image/png": "[encoded data removed]",
      "text/plain": [
       "<Figure size 432x288 with 1 Axes>"
      ]
     },
     "metadata": {
      "needs_background": "light"
     },
     "output_type": "display_data"
    }
   ],
   "source": [
    "from scipy.interpolate import make_interp_spline\n",
    "\n",
    "model1 = make_interp_spline(x, y1) #Ces fonctions permettent de lisser les courbes\n",
    "model2 = make_interp_spline(x, y2)\n",
    "model3 = make_interp_spline(x, y3)\n",
    "model4 = make_interp_spline(x, y4)\n",
    "\n",
    "y1s = model1(x)\n",
    "y2s = model2(x)\n",
    "y3s = model3(x)\n",
    "y4s = model4(x)\n",
    "\n",
    "plt.xlabel(\"H[J]\")\n",
    "plt.ylabel(\"f. ev\")\n",
    "\n",
    "plt.plot(x, y1s, label = \"T = 1.0\")\n",
    "plt.plot(x, y2s, label = \"T = 2.5\")\n",
    "plt.plot(x, y3s, label = \"T = 5.0\")\n",
    "plt.plot(x, y4s, label = \"T = 7.5\")\n",
    "plt.legend()\n",
    "plt.show()"
   ]
  }
 ],
 "metadata": {
  "kernelspec": {
   "display_name": "Python 3 (ipykernel)",
   "language": "python",
   "name": "python3"
  },
  "language_info": {
   "codemirror_mode": {
    "name": "ipython",
    "version": 3
   },
   "file_extension": ".py",
   "mimetype": "text/x-python",
   "name": "python",
   "nbconvert_exporter": "python",
   "pygments_lexer": "ipython3",
   "version": "3.10.4"
  }
 },
 "nbformat": 4,
 "nbformat_minor": 5
}
