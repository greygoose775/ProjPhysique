{
 "cells": [
  {
   "cell_type": "code",
   "execution_count": 2,
   "id": "62a5b2dd",
   "metadata": {},
   "outputs": [],
   "source": [
    "import numpy as np\n",
    "from matplotlib import pyplot as plt\n",
    "from scipy.optimize import fsolve"
   ]
  },
  {
   "cell_type": "code",
   "execution_count": 11,
   "id": "1005c8a7",
   "metadata": {
    "id": "MIh_lZOdnScw"
   },
   "outputs": [],
   "source": [
    "class RFIM_irrational(object):\n",
    "    '''A class for simulating the Random Field Ising Model '''\n",
    "    \n",
    "    def __init__(self, beta, J, F, N, delta, alpha):\n",
    "        '''Create an instance of the RFIM with parameters J,F\n",
    "        of size N, with fields h with a random normal distribution of parameter delta'''\n",
    "        self.beta = beta\n",
    "        self.J = J\n",
    "        self.F = F\n",
    "        self.N = N\n",
    "        self.S = np.random.choice([-1,1], size = [N,N])\n",
    "        self.matJ = np.random.choice([-J,0,J], size = [N,N])\n",
    "        self.alpha = alpha\n",
    "        if delta == 0: # For the zero temperature case\n",
    "            self.h = np.zeros(N)\n",
    "        else:\n",
    "            #self.h = np.random.laplace(scale = delta, size = N)\n",
    "            #self.h = np.random.normal(loc = 0, scale = delta, size = N)\n",
    "            self.h = F\n",
    "        \n",
    "    def m(self):\n",
    "        '''Computes average opinion '''\n",
    "        return np.mean(self.S)\n",
    "    \n",
    "    def eng(self, a, b):\n",
    "        acc1, acc2 = 0 , 0\n",
    "        S0 = self.S[a,b]\n",
    "        nb = self.S[(a+1)%N, b]*self.matJ[(a+1)%N, b] + self.S[a,(b+1)%N]*self.matJ[(a+1)%N, b] + self.S[(a-1)%N, b]*self.matJ[(a-1)%N, b] + self.S[a,(b-1)%N]*self.matJ[a,(b-1)%N]\n",
    "        acc1 += -nb*S0\n",
    "        acc2+= self.h*S0\n",
    "        return acc1/2 + acc2  #divide by 2 to compensate for over-counting\n",
    "\n",
    "        \n",
    "        \n",
    "                                   \n",
    "    def p(self, i):\n",
    "        '''Computes the local opinion polarization for agent i p_i\n",
    "        inputs: agent label i\n",
    "        returns: the field p_i'''\n",
    "        local_m = (self.S.sum() - self.S[i]) / (self.N)\n",
    "        return self.h[i] + self.F + self.J * local_m\n",
    "    \n",
    "    def matE(self):\n",
    "        return([[self.eng(i,j) for j in range(N)] for i in range(N)])\n",
    "    \n",
    "    def g(self, i, t, h):\n",
    "        return\n",
    "    \n",
    "    def flip(self,a, b):\n",
    "        '''Changes S_i -> -S_i according to the dynamic rule\n",
    "        input: agent label i\n",
    "        returns: 0 if the agent didn't change opinion\n",
    "                 1 if the agent changed opinion\n",
    "        \n",
    "        local_sum1, local_sum2, local_sum3 = 0, 0, 0\n",
    "        for i in range(N-1):\n",
    "                local_sum1 += self.matJ[i, i+1] * self.S[i] * self.S[i+1]\n",
    "                \n",
    "        for i in range(N):\n",
    "            local_sum2 += self.S[i]*self.h[i0]\n",
    "            if self.S[i] == -1:\n",
    "                local_sum3 += -1# * self.g(i, t, h)\n",
    "        '''     \n",
    "        u_i0 = self.eng(a, b)\n",
    "        prob_flip = 1/(1 + np.exp(beta*u_i0))\n",
    "        \n",
    "        if np.random.random() < prob_flip:\n",
    "            self.S[a, b] *= -1\n",
    "            return 1\n",
    "        else:\n",
    "            return 0\n",
    "    \n",
    "    def sweep(self):\n",
    "        '''Goes through all N agents and tries to flip them\n",
    "        input: none\n",
    "        returns: number of agents that changed their mind\n",
    "        '''\n",
    "        s = 0\n",
    "        elements1 = list(range(N))\n",
    "        elements2 = list(range(N))\n",
    "        np.random.shuffle(elements1)\n",
    "        np.random.shuffle(elements2)\n",
    "        for a in elements1:\n",
    "            for b in elements2:\n",
    "                s += self.flip(a, b)\n",
    "        return s\n",
    "    \n",
    "    def equilibrate(self): # Needs modification for finite temperature case\n",
    "        '''Find the equilibrium of the system'''\n",
    "        flips = self.sweep()\n",
    "        count = 0\n",
    "        while count < 100:\n",
    "            flips = self.sweep()\n",
    "            count += 1"
   ]
  },
  {
   "cell_type": "code",
   "execution_count": 12,
   "id": "c4350eb9",
   "metadata": {
    "id": "XW0RJrdusa77"
   },
   "outputs": [
    {
     "data": {
      "text/plain": [
       "array([[ 1,  1,  1, -1,  1, -1, -1,  1,  1,  1],\n",
       "       [-1,  1,  1,  1, -1, -1,  1, -1, -1,  1],\n",
       "       [-1,  1,  1, -1,  1,  1,  1, -1, -1,  1],\n",
       "       [-1, -1,  1,  1,  1,  1,  1, -1, -1, -1],\n",
       "       [ 1,  1, -1, -1, -1, -1,  1,  1,  1,  1],\n",
       "       [-1, -1,  1, -1, -1, -1, -1,  1, -1, -1],\n",
       "       [ 1, -1,  1,  1, -1, -1,  1,  1,  1,  1],\n",
       "       [ 1, -1,  1,  1, -1, -1, -1,  1, -1, -1],\n",
       "       [-1, -1, -1,  1, -1, -1,  1,  1, -1, -1],\n",
       "       [ 1,  1,  1, -1, -1,  1,  1,  1,  1, -1]])"
      ]
     },
     "execution_count": 12,
     "metadata": {},
     "output_type": "execute_result"
    }
   ],
   "source": [
    "J = 1\n",
    "delta = 1\n",
    "N = 10\n",
    "F = 100000000\n",
    "M = 1 # number of repetitions\n",
    "beta = 1/(1.380649 * 10**(-23))\n",
    "beta2 = beta/2.5\n",
    "beta3 = beta/5.0\n",
    "beta4 = beta/7.5\n",
    "sim2 = RFIM_irrational(beta,J,F,N,delta,0.1)\n",
    "sim2.S\n",
    "#m = np.empty((len(betas),M))\n"
   ]
  },
  {
   "cell_type": "code",
   "execution_count": 15,
   "id": "0daf2285",
   "metadata": {},
   "outputs": [],
   "source": [
    "def fev(l):\n",
    "    acc = 0\n",
    "    for i in l:\n",
    "        for elem in i:\n",
    "            if elem < 1 :\n",
    "               acc+=1\n",
    "    return(acc/(len(l)**2))"
   ]
  },
  {
   "cell_type": "code",
   "execution_count": 16,
   "id": "fea6ea77",
   "metadata": {},
   "outputs": [
    {
     "name": "stderr",
     "output_type": "stream",
     "text": [
      "/tmp/ipykernel_26117/2208620024.py:65: RuntimeWarning: overflow encountered in exp\n",
      "  prob_flip = 1/(1 + np.exp(beta*u_i0))\n"
     ]
    },
    {
     "data": {
      "text/plain": [
       "[<matplotlib.lines.Line2D at 0x7f4a3ae52260>]"
      ]
     },
     "execution_count": 16,
     "metadata": {},
     "output_type": "execute_result"
    },
    {
     "data": {
      "image/png": "[encoded data removed]",
      "text/plain": [
       "<Figure size 432x288 with 1 Axes>"
      ]
     },
     "metadata": {
      "needs_background": "light"
     },
     "output_type": "display_data"
    }
   ],
   "source": [
    "x = np.linspace(0, 25, num = 25)\n",
    "y1, y2, y3, y4 = [], [], [], []\n",
    "for x0 in x:\n",
    "    acc1, acc2, acc3, acc4 = [], [], [], []\n",
    "    for indice in range(5):\n",
    "        sim1 = RFIM_irrational(beta,J,x0,N,delta,0.1)\n",
    "        sim1.equilibrate()\n",
    "        acc1.append(fev(sim1.S))\n",
    "        \n",
    "        sim2 = RFIM_irrational(beta2,J,x0,N,delta,0.1)\n",
    "        sim2.equilibrate()\n",
    "        acc2.append(fev(sim2.S))\n",
    "        \n",
    "        sim3 = RFIM_irrational(beta3,J,x0,N,delta,0.1)\n",
    "        sim3.equilibrate()\n",
    "        acc3.append(fev(sim3.S))\n",
    "        \n",
    "        sim4 = RFIM_irrational(beta4,J,x0,N,delta,0.1)\n",
    "        sim4.equilibrate()\n",
    "        acc4.append(fev(sim4.S))\n",
    "        \n",
    "    y1.append(np.mean(acc1))\n",
    "    y2.append(np.mean(acc2))\n",
    "    y3.append(np.mean(acc3))\n",
    "    y4.append(np.mean(acc4))\n",
    "    \n"
   ]
  },
  {
   "cell_type": "code",
   "execution_count": null,
   "id": "04861d73",
   "metadata": {},
   "outputs": [],
   "source": [
    "plt.scatter(x, y1, label = \"T = 1.0\")\n",
    "plt.scatter(x, y2, label = \"T = 2.5\" )\n",
    "plt.scatter(x, y3, label = \"T = 5.0\")\n",
    "plt.scatter(x, y4, label = \"T = 7.5\")\n",
    "plt.legend()\n",
    "plt.show()"
   ]
  },
  {
   "cell_type": "code",
   "execution_count": null,
   "id": "708c97ef",
   "metadata": {},
   "outputs": [],
   "source": [
    "RFIM_irrational(beta,J,10000000000000000000000000000000000000000000000000000000000000000000000,N,delta,0.1).matE()"
   ]
  },
  {
   "cell_type": "code",
   "execution_count": 138,
   "id": "49e57f36",
   "metadata": {
    "colab": {
     "base_uri": "https://localhost:8080/"
    },
    "id": "flzxmHttsrP8",
    "outputId": "fd7335ec-4a6d-4498-8ea6-f19a01003126"
   },
   "outputs": [
    {
     "ename": "NameError",
     "evalue": "name 'i0' is not defined",
     "output_type": "error",
     "traceback": [
      "\u001b[0;31m---------------------------------------------------------------------------\u001b[0m",
      "\u001b[0;31mNameError\u001b[0m                                 Traceback (most recent call last)",
      "Input \u001b[0;32mIn [138]\u001b[0m, in \u001b[0;36m<cell line: 1>\u001b[0;34m()\u001b[0m\n\u001b[1;32m      1\u001b[0m \u001b[38;5;28;01mfor\u001b[39;00m j \u001b[38;5;129;01min\u001b[39;00m \u001b[38;5;28mrange\u001b[39m(M):\n\u001b[1;32m      2\u001b[0m     beta \u001b[38;5;241m=\u001b[39m \u001b[38;5;241m0\u001b[39m\n\u001b[0;32m----> 3\u001b[0m     \u001b[43msim2\u001b[49m\u001b[38;5;241;43m.\u001b[39;49m\u001b[43mequilibrate\u001b[49m\u001b[43m(\u001b[49m\u001b[43m)\u001b[49m\n\u001b[1;32m      4\u001b[0m     \u001b[38;5;28;01mfor\u001b[39;00m i \u001b[38;5;129;01min\u001b[39;00m \u001b[38;5;28mrange\u001b[39m(\u001b[38;5;28mlen\u001b[39m(betas)):\n\u001b[1;32m      5\u001b[0m         beta \u001b[38;5;241m=\u001b[39m betas[i]\n",
      "Input \u001b[0;32mIn [133]\u001b[0m, in \u001b[0;36mRFIM_irrational.equilibrate\u001b[0;34m(self)\u001b[0m\n\u001b[1;32m     88\u001b[0m \u001b[38;5;28;01mdef\u001b[39;00m \u001b[38;5;21mequilibrate\u001b[39m(\u001b[38;5;28mself\u001b[39m): \u001b[38;5;66;03m# Needs modification for finite temperature case\u001b[39;00m\n\u001b[1;32m     89\u001b[0m     \u001b[38;5;124;03m'''Find the equilibrium of the system'''\u001b[39;00m\n\u001b[0;32m---> 90\u001b[0m     flips \u001b[38;5;241m=\u001b[39m \u001b[38;5;28;43mself\u001b[39;49m\u001b[38;5;241;43m.\u001b[39;49m\u001b[43msweep\u001b[49m\u001b[43m(\u001b[49m\u001b[43m)\u001b[49m\n\u001b[1;32m     91\u001b[0m     count \u001b[38;5;241m=\u001b[39m \u001b[38;5;241m0\u001b[39m\n\u001b[1;32m     92\u001b[0m     \u001b[38;5;28;01mwhile\u001b[39;00m count \u001b[38;5;241m<\u001b[39m \u001b[38;5;241m100\u001b[39m:\n",
      "Input \u001b[0;32mIn [133]\u001b[0m, in \u001b[0;36mRFIM_irrational.sweep\u001b[0;34m(self)\u001b[0m\n\u001b[1;32m     83\u001b[0m \u001b[38;5;28;01mfor\u001b[39;00m a \u001b[38;5;129;01min\u001b[39;00m elements1:\n\u001b[1;32m     84\u001b[0m     \u001b[38;5;28;01mfor\u001b[39;00m b \u001b[38;5;129;01min\u001b[39;00m elements2:\n\u001b[0;32m---> 85\u001b[0m         s \u001b[38;5;241m+\u001b[39m\u001b[38;5;241m=\u001b[39m \u001b[38;5;28;43mself\u001b[39;49m\u001b[38;5;241;43m.\u001b[39;49m\u001b[43mflip\u001b[49m\u001b[43m(\u001b[49m\u001b[43ma\u001b[49m\u001b[43m,\u001b[49m\u001b[43m \u001b[49m\u001b[43mb\u001b[49m\u001b[43m)\u001b[49m\n\u001b[1;32m     86\u001b[0m \u001b[38;5;28;01mreturn\u001b[39;00m s\n",
      "Input \u001b[0;32mIn [133]\u001b[0m, in \u001b[0;36mRFIM_irrational.flip\u001b[0;34m(self, a, b)\u001b[0m\n\u001b[1;32m     65\u001b[0m prob_flip \u001b[38;5;241m=\u001b[39m \u001b[38;5;241m1\u001b[39m\u001b[38;5;241m/\u001b[39m(\u001b[38;5;241m1\u001b[39m \u001b[38;5;241m+\u001b[39m np\u001b[38;5;241m.\u001b[39mexp(beta\u001b[38;5;241m*\u001b[39mu_i0))\n\u001b[1;32m     67\u001b[0m \u001b[38;5;28;01mif\u001b[39;00m np\u001b[38;5;241m.\u001b[39mrandom\u001b[38;5;241m.\u001b[39mrandom() \u001b[38;5;241m<\u001b[39m prob_flip:\n\u001b[0;32m---> 68\u001b[0m     \u001b[38;5;28mself\u001b[39m\u001b[38;5;241m.\u001b[39mS[\u001b[43mi0\u001b[49m] \u001b[38;5;241m*\u001b[39m\u001b[38;5;241m=\u001b[39m \u001b[38;5;241m-\u001b[39m\u001b[38;5;241m1\u001b[39m\n\u001b[1;32m     69\u001b[0m     \u001b[38;5;28;01mreturn\u001b[39;00m \u001b[38;5;241m1\u001b[39m\n\u001b[1;32m     70\u001b[0m \u001b[38;5;28;01melse\u001b[39;00m:\n",
      "\u001b[0;31mNameError\u001b[0m: name 'i0' is not defined"
     ]
    }
   ],
   "source": [
    "for j in range(M):\n",
    "    beta = 0\n",
    "    sim2.equilibrate()\n",
    "    for i in range(len(betas)):\n",
    "        beta = betas[i]\n",
    "        sim2.beta = beta\n",
    "        sim2.equilibrate()\n",
    "        m[i,j] = sim2.m()\n",
    "    print(j)\n",
    "m2 = np.average(m**2,axis=1)"
   ]
  },
  {
   "cell_type": "code",
   "execution_count": 8,
   "id": "19ba3334",
   "metadata": {
    "colab": {
     "base_uri": "https://localhost:8080/",
     "height": 279
    },
    "id": "FnPu3APa6fxd",
    "outputId": "73cb93aa-c82d-4415-8658-e10bf6a8f0db"
   },
   "outputs": [
    {
     "data": {
      "image/png": "[encoded data removed]",
      "text/plain": [
       "<Figure size 432x288 with 1 Axes>"
      ]
     },
     "metadata": {
      "needs_background": "light"
     },
     "output_type": "display_data"
    }
   ],
   "source": [
    "plt.scatter(betas,m2)\n",
    "plt.xlabel('beta')\n",
    "plt.ylabel(\"m**2\")\n",
    "plt.show()"
   ]
  }
 ],
 "metadata": {
  "kernelspec": {
   "display_name": "Python 3 (ipykernel)",
   "language": "python",
   "name": "python3"
  },
  "language_info": {
   "codemirror_mode": {
    "name": "ipython",
    "version": 3
   },
   "file_extension": ".py",
   "mimetype": "text/x-python",
   "name": "python",
   "nbconvert_exporter": "python",
   "pygments_lexer": "ipython3",
   "version": "3.10.4"
  }
 },
 "nbformat": 4,
 "nbformat_minor": 5
}
