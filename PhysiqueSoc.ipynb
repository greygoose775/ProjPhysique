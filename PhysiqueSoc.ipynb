{
 "cells": [
  {
   "cell_type": "code",
   "execution_count": 1,
   "id": "d27d0509",
   "metadata": {},
   "outputs": [],
   "source": [
    "import numpy as np\n",
    "from matplotlib import pyplot as plt\n",
    "from scipy.optimize import fsolve"
   ]
  },
  {
   "cell_type": "code",
   "execution_count": 8,
   "id": "1005c8a7",
   "metadata": {
    "id": "MIh_lZOdnScw"
   },
   "outputs": [],
   "source": [
    "class RFIM_irrational(object):\n",
    "    '''A class for simulating the Random Field Ising Model '''\n",
    "    \n",
    "    def __init__(self, beta, J, H, N, delta, alpha):\n",
    "        '''Create an instance of the RFIM with parameters J,F\n",
    "        of size N, with fields h with a random normal distribution of parameter delta'''\n",
    "        self.beta = beta\n",
    "        self.J = J\n",
    "        self.F = F\n",
    "        self.N = N\n",
    "        self.S= np.random.choice([-1,1], size = N)\n",
    "        self.matJ = np.random.choice([-J,0,J], size = [N,N])\n",
    "        self.alpha = alpha\n",
    "        if delta == 0: # For the zero temperature case\n",
    "            self.h = np.zeros(N)\n",
    "        else:\n",
    "            #self.h = np.random.laplace(scale = delta, size = N)\n",
    "            self.h = np.random.normal(loc = 0, scale = delta, size = N)\n",
    "        \n",
    "    def m(self):\n",
    "        '''Computes average opinion '''\n",
    "        return np.mean(self.S)\n",
    "                                   \n",
    "    def p(self, i):\n",
    "        '''Computes the local opinion polarization for agent i p_i\n",
    "        inputs: agent label i\n",
    "        returns: the field p_i'''\n",
    "        local_m = (self.S.sum() - self.S[i]) / (self.N)\n",
    "        return self.h[i] + self.F + self.J * local_m\n",
    "    \n",
    "    def flip(self,i0):\n",
    "        '''Changes S_i -> -S_i according to the dynamic rule\n",
    "        input: agent label i\n",
    "        returns: 0 if the agent didn't change opinion\n",
    "                 1 if the agent changed opinion\n",
    "        '''\n",
    "        local_sum1, local_sum2, local_sum3 = 0, 0, 0\n",
    "        for i in range(N):\n",
    "            for k in range(N):\n",
    "                local_sum1 += self.matJ[i, k] * self.S[k] * self.S[i]\n",
    "                \n",
    "            local_sum2 += self.S[i]*self.h[i0]\n",
    "            if self.S[i] == -1:\n",
    "                local_sum3 += self.S[i]#*self.g(i, t, h)\n",
    "                \n",
    "        u_i0 = -local_sum1 - local_sum2 + local_sum3\n",
    "        prob_flip = 1/(1 + np.exp(beta*u_i0))\n",
    "        \n",
    "        if np.random.random() < prob_flip:\n",
    "            self.S[i0] *= -1\n",
    "            return 1\n",
    "        else:\n",
    "            return 0\n",
    "    \n",
    "    def sweep(self):\n",
    "        '''Goes through all N agents and tries to flip them\n",
    "        input: none\n",
    "        returns: number of agents that changed their mind\n",
    "        '''\n",
    "        s = 0\n",
    "        elements = list(range(N))\n",
    "        np.random.shuffle(elements)\n",
    "        for i in elements:\n",
    "            s += self.flip(i)\n",
    "        return s\n",
    "    \n",
    "    def equilibrate(self): # Needs modification for finite temperature case\n",
    "        '''Find the equilibrium of the system'''\n",
    "        flips = self.sweep()\n",
    "        count = 0\n",
    "        while count < 100:\n",
    "            flips = self.sweep()\n",
    "            count += 1"
   ]
  },
  {
   "cell_type": "code",
   "execution_count": 17,
   "id": "c4350eb9",
   "metadata": {
    "id": "XW0RJrdusa77"
   },
   "outputs": [],
   "source": [
    "J = 1\n",
    "delta = 0\n",
    "N = 100\n",
    "F = 0\n",
    "M = 4 # number of repetitions\n",
    "betas = np.linspace(0,4,20)\n",
    "beta = betas[0]\n",
    "sim2 = RFIM_irrational(beta,J,F,N,delta,0.1)\n",
    "m = np.empty((len(betas),M))"
   ]
  },
  {
   "cell_type": "code",
   "execution_count": null,
   "id": "49e57f36",
   "metadata": {
    "colab": {
     "base_uri": "https://localhost:8080/"
    },
    "id": "flzxmHttsrP8",
    "outputId": "fd7335ec-4a6d-4498-8ea6-f19a01003126"
   },
   "outputs": [],
   "source": [
    "for j in range(M):\n",
    "    beta = 0\n",
    "    sim2.equilibrate()\n",
    "    for i in range(len(betas)):\n",
    "        beta = betas[i]\n",
    "        sim2.beta = beta\n",
    "        sim2.equilibrate()\n",
    "        m[i,j] = sim2.m()\n",
    "    print(j)\n",
    "m2 = np.average(m**2,axis=1)"
   ]
  },
  {
   "cell_type": "code",
   "execution_count": null,
   "id": "19ba3334",
   "metadata": {
    "colab": {
     "base_uri": "https://localhost:8080/",
     "height": 279
    },
    "id": "FnPu3APa6fxd",
    "outputId": "73cb93aa-c82d-4415-8658-e10bf6a8f0db"
   },
   "outputs": [],
   "source": [
    "plt.scatter(betas,m2)\n",
    "plt.xlabel('beta')\n",
    "plt.ylabel(\"m**2\")\n",
    "plt.show()"
   ]
  },
  {
   "cell_type": "code",
   "execution_count": null,
   "id": "74922335",
   "metadata": {},
   "outputs": [],
   "source": []
  }
 ],
 "metadata": {
  "kernelspec": {
   "display_name": "Python 3 (ipykernel)",
   "language": "python",
   "name": "python3"
  },
  "language_info": {
   "codemirror_mode": {
    "name": "ipython",
    "version": 3
   },
   "file_extension": ".py",
   "mimetype": "text/x-python",
   "name": "python",
   "nbconvert_exporter": "python",
   "pygments_lexer": "ipython3",
   "version": "3.10.4"
  }
 },
 "nbformat": 4,
 "nbformat_minor": 5
}
