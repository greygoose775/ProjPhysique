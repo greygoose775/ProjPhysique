{
 "cells": [
  {
   "cell_type": "code",
   "execution_count": 4,
   "id": "cebd3cd0",
   "metadata": {},
   "outputs": [],
   "source": [
    "import numpy as np\n",
    "from matplotlib import pyplot as plt\n",
    "from scipy.optimize import fsolve"
   ]
  },
  {
   "cell_type": "code",
   "execution_count": 19,
   "id": "1005c8a7",
   "metadata": {
    "id": "MIh_lZOdnScw"
   },
   "outputs": [],
   "source": [
    "class RFIM_irrational(object):\n",
    "    '''A class for simulating the Random Field Ising Model '''\n",
    "    \n",
    "    def __init__(self, beta, J, F, N, delta, alpha):\n",
    "        '''Create an instance of the RFIM with parameters J,F\n",
    "        of size N, with fields h with a random normal distribution of parameter delta'''\n",
    "        self.beta = beta\n",
    "        self.J = J\n",
    "        self.F = F\n",
    "        self.N = N\n",
    "        self.S = np.random.choice([-1,1], size = N)\n",
    "        self.matJ = np.random.choice([-J,0,J], size = [N,N])\n",
    "        self.alpha = alpha\n",
    "        if delta == 0: # For the zero temperature case\n",
    "            self.h = np.zeros(N)\n",
    "        else:\n",
    "            #self.h = np.random.laplace(scale = delta, size = N)\n",
    "            #self.h = np.random.normal(loc = 0, scale = delta, size = N)\n",
    "            self.h = [F]*N\n",
    "        \n",
    "    def m(self):\n",
    "        '''Computes average opinion '''\n",
    "        return np.mean(self.S)\n",
    "                                   \n",
    "    def p(self, i):\n",
    "        '''Computes the local opinion polarization for agent i p_i\n",
    "        inputs: agent label i\n",
    "        returns: the field p_i'''\n",
    "        local_m = (self.S.sum() - self.S[i]) / (self.N)\n",
    "        return self.h[i] + self.F + self.J * local_m\n",
    "    \n",
    "    def g(self, i, t, h):\n",
    "        return\n",
    "    \n",
    "    def flip(self,i0):\n",
    "        '''Changes S_i -> -S_i according to the dynamic rule\n",
    "        input: agent label i\n",
    "        returns: 0 if the agent didn't change opinion\n",
    "                 1 if the agent changed opinion\n",
    "        '''\n",
    "        local_sum1, local_sum2, local_sum3 = 0, 0, 0\n",
    "        for i in range(N):\n",
    "            for k in range(N):\n",
    "                local_sum1 += self.matJ[i, k] * self.S[k] * self.S[i]\n",
    "                \n",
    "            local_sum2 += self.S[i]*self.h[i0]\n",
    "            if self.S[i] == -1:\n",
    "                local_sum3 += -1#*self.g(i, t, h)\n",
    "                \n",
    "        u_i0 = -local_sum1 - local_sum2 + local_sum3\n",
    "        prob_flip = 1/(1 + np.exp(beta*u_i0))\n",
    "        \n",
    "        if np.random.random() < prob_flip:\n",
    "            self.S[i0] *= -1\n",
    "            return 1\n",
    "        else:\n",
    "            return 0\n",
    "    \n",
    "    def sweep(self):\n",
    "        '''Goes through all N agents and tries to flip them\n",
    "        input: none\n",
    "        returns: number of agents that changed their mind\n",
    "        '''\n",
    "        s = 0\n",
    "        elements = list(range(N))\n",
    "        np.random.shuffle(elements)\n",
    "        for i in elements:\n",
    "            s += self.flip(i)\n",
    "        return s\n",
    "    \n",
    "    def equilibrate(self): # Needs modification for finite temperature case\n",
    "        '''Find the equilibrium of the system'''\n",
    "        flips = self.sweep()\n",
    "        count = 0\n",
    "        while count < 100:\n",
    "            flips = self.sweep()\n",
    "            count += 1"
   ]
  },
  {
   "cell_type": "code",
   "execution_count": 56,
   "id": "c4350eb9",
   "metadata": {
    "id": "XW0RJrdusa77"
   },
   "outputs": [
    {
     "data": {
      "text/plain": [
       "array([-1, -1, -1,  1,  1, -1, -1, -1, -1,  1, -1,  1, -1,  1, -1,  1,  1,\n",
       "       -1,  1, -1,  1,  1,  1, -1,  1, -1, -1,  1,  1, -1, -1,  1,  1,  1,\n",
       "       -1, -1,  1, -1, -1,  1, -1, -1, -1,  1,  1, -1,  1, -1, -1, -1,  1,\n",
       "       -1, -1,  1, -1, -1, -1, -1, -1, -1, -1,  1, -1, -1,  1, -1, -1, -1,\n",
       "        1,  1, -1, -1,  1,  1,  1,  1, -1,  1, -1, -1,  1, -1,  1,  1,  1,\n",
       "        1, -1,  1,  1, -1, -1,  1, -1,  1,  1,  1, -1,  1,  1, -1])"
      ]
     },
     "execution_count": 56,
     "metadata": {},
     "output_type": "execute_result"
    }
   ],
   "source": [
    "J = 1\n",
    "delta = 1\n",
    "N = 100\n",
    "F = 0\n",
    "M = 1 # number of repetitions\n",
    "beta = 1/(10**(-23))\n",
    "sim2 = RFIM_irrational(beta,J,F,N,delta,0.1)\n",
    "sim2.S\n",
    "#m = np.empty((len(betas),M))\n"
   ]
  },
  {
   "cell_type": "code",
   "execution_count": 30,
   "id": "10e639fc",
   "metadata": {},
   "outputs": [],
   "source": [
    "def fev(l):\n",
    "    acc = 0\n",
    "    for i in l:\n",
    "        if i <0:\n",
    "           acc+=1\n",
    "    return(acc/len(l))"
   ]
  },
  {
   "cell_type": "code",
   "execution_count": 58,
   "id": "c2664018",
   "metadata": {},
   "outputs": [
    {
     "data": {
      "text/plain": [
       "[<matplotlib.lines.Line2D at 0x7ff08cdf9a20>]"
      ]
     },
     "execution_count": 58,
     "metadata": {},
     "output_type": "execute_result"
    },
    {
     "data": {
      "image/png": "[encoded data removed]",
      "text/plain": [
       "<Figure size 432x288 with 1 Axes>"
      ]
     },
     "metadata": {
      "needs_background": "light"
     },
     "output_type": "display_data"
    }
   ],
   "source": [
    "x = list(range(26))\n",
    "y = []\n",
    "for x0 in x:\n",
    "    acc = []\n",
    "    for i in range(500):\n",
    "        acc.append(fev(RFIM_irrational(beta,J,x0,N,delta,0.1).S))\n",
    "    y.append(np.mean(acc))\n",
    "plt.plot(x,y)"
   ]
  },
  {
   "cell_type": "code",
   "execution_count": 59,
   "id": "ca8784df",
   "metadata": {},
   "outputs": [
    {
     "data": {
      "text/plain": [
       "array([-1, -1, -1,  1,  1,  1, -1, -1,  1, -1, -1, -1, -1, -1,  1, -1,  1,\n",
       "       -1, -1, -1, -1, -1,  1,  1, -1,  1, -1,  1,  1, -1,  1,  1, -1,  1,\n",
       "        1, -1, -1,  1, -1,  1,  1,  1,  1,  1,  1,  1, -1,  1, -1,  1,  1,\n",
       "       -1,  1, -1,  1, -1, -1, -1, -1, -1, -1,  1,  1,  1,  1,  1, -1,  1,\n",
       "       -1,  1, -1,  1, -1, -1,  1, -1, -1,  1, -1,  1,  1,  1, -1,  1,  1,\n",
       "        1, -1, -1,  1,  1,  1,  1,  1,  1,  1, -1, -1,  1, -1,  1])"
      ]
     },
     "execution_count": 59,
     "metadata": {},
     "output_type": "execute_result"
    }
   ],
   "source": [
    "RFIM_irrational(beta,J,10000000000000000000000000000000000000000000000000000000000000000000000,N,delta,0.1).S"
   ]
  },
  {
   "cell_type": "code",
   "execution_count": 52,
   "id": "49e57f36",
   "metadata": {
    "colab": {
     "base_uri": "https://localhost:8080/"
    },
    "id": "flzxmHttsrP8",
    "outputId": "fd7335ec-4a6d-4498-8ea6-f19a01003126"
   },
   "outputs": [
    {
     "ename": "KeyboardInterrupt",
     "evalue": "",
     "output_type": "error",
     "traceback": [
      "\u001b[0;31m---------------------------------------------------------------------------\u001b[0m",
      "\u001b[0;31mKeyboardInterrupt\u001b[0m                         Traceback (most recent call last)",
      "Input \u001b[0;32mIn [52]\u001b[0m, in \u001b[0;36m<cell line: 1>\u001b[0;34m()\u001b[0m\n\u001b[1;32m      1\u001b[0m \u001b[38;5;28;01mfor\u001b[39;00m j \u001b[38;5;129;01min\u001b[39;00m \u001b[38;5;28mrange\u001b[39m(M):\n\u001b[1;32m      2\u001b[0m     beta \u001b[38;5;241m=\u001b[39m \u001b[38;5;241m0\u001b[39m\n\u001b[0;32m----> 3\u001b[0m     \u001b[43msim2\u001b[49m\u001b[38;5;241;43m.\u001b[39;49m\u001b[43mequilibrate\u001b[49m\u001b[43m(\u001b[49m\u001b[43m)\u001b[49m\n\u001b[1;32m      4\u001b[0m     \u001b[38;5;28;01mfor\u001b[39;00m i \u001b[38;5;129;01min\u001b[39;00m \u001b[38;5;28mrange\u001b[39m(\u001b[38;5;28mlen\u001b[39m(betas)):\n\u001b[1;32m      5\u001b[0m         beta \u001b[38;5;241m=\u001b[39m betas[i]\n",
      "Input \u001b[0;32mIn [19]\u001b[0m, in \u001b[0;36mRFIM_irrational.equilibrate\u001b[0;34m(self)\u001b[0m\n\u001b[1;32m     74\u001b[0m count \u001b[38;5;241m=\u001b[39m \u001b[38;5;241m0\u001b[39m\n\u001b[1;32m     75\u001b[0m \u001b[38;5;28;01mwhile\u001b[39;00m count \u001b[38;5;241m<\u001b[39m \u001b[38;5;241m100\u001b[39m:\n\u001b[0;32m---> 76\u001b[0m     flips \u001b[38;5;241m=\u001b[39m \u001b[38;5;28;43mself\u001b[39;49m\u001b[38;5;241;43m.\u001b[39;49m\u001b[43msweep\u001b[49m\u001b[43m(\u001b[49m\u001b[43m)\u001b[49m\n\u001b[1;32m     77\u001b[0m     count \u001b[38;5;241m+\u001b[39m\u001b[38;5;241m=\u001b[39m \u001b[38;5;241m1\u001b[39m\n",
      "Input \u001b[0;32mIn [19]\u001b[0m, in \u001b[0;36mRFIM_irrational.sweep\u001b[0;34m(self)\u001b[0m\n\u001b[1;32m     66\u001b[0m np\u001b[38;5;241m.\u001b[39mrandom\u001b[38;5;241m.\u001b[39mshuffle(elements)\n\u001b[1;32m     67\u001b[0m \u001b[38;5;28;01mfor\u001b[39;00m i \u001b[38;5;129;01min\u001b[39;00m elements:\n\u001b[0;32m---> 68\u001b[0m     s \u001b[38;5;241m+\u001b[39m\u001b[38;5;241m=\u001b[39m \u001b[38;5;28;43mself\u001b[39;49m\u001b[38;5;241;43m.\u001b[39;49m\u001b[43mflip\u001b[49m\u001b[43m(\u001b[49m\u001b[43mi\u001b[49m\u001b[43m)\u001b[49m\n\u001b[1;32m     69\u001b[0m \u001b[38;5;28;01mreturn\u001b[39;00m s\n",
      "Input \u001b[0;32mIn [19]\u001b[0m, in \u001b[0;36mRFIM_irrational.flip\u001b[0;34m(self, i0)\u001b[0m\n\u001b[1;32m     42\u001b[0m \u001b[38;5;28;01mfor\u001b[39;00m i \u001b[38;5;129;01min\u001b[39;00m \u001b[38;5;28mrange\u001b[39m(N):\n\u001b[1;32m     43\u001b[0m     \u001b[38;5;28;01mfor\u001b[39;00m k \u001b[38;5;129;01min\u001b[39;00m \u001b[38;5;28mrange\u001b[39m(N):\n\u001b[0;32m---> 44\u001b[0m         local_sum1 \u001b[38;5;241m+\u001b[39m\u001b[38;5;241m=\u001b[39m \u001b[38;5;28mself\u001b[39m\u001b[38;5;241m.\u001b[39mmatJ[i, k] \u001b[38;5;241m*\u001b[39m \u001b[38;5;28mself\u001b[39m\u001b[38;5;241m.\u001b[39mS[k] \u001b[38;5;241m*\u001b[39m \u001b[38;5;28mself\u001b[39m\u001b[38;5;241m.\u001b[39mS[i]\n\u001b[1;32m     46\u001b[0m     local_sum2 \u001b[38;5;241m+\u001b[39m\u001b[38;5;241m=\u001b[39m \u001b[38;5;28mself\u001b[39m\u001b[38;5;241m.\u001b[39mS[i]\u001b[38;5;241m*\u001b[39m\u001b[38;5;28mself\u001b[39m\u001b[38;5;241m.\u001b[39mh[i0]\n\u001b[1;32m     47\u001b[0m     \u001b[38;5;28;01mif\u001b[39;00m \u001b[38;5;28mself\u001b[39m\u001b[38;5;241m.\u001b[39mS[i] \u001b[38;5;241m==\u001b[39m \u001b[38;5;241m-\u001b[39m\u001b[38;5;241m1\u001b[39m:\n",
      "\u001b[0;31mKeyboardInterrupt\u001b[0m: "
     ]
    }
   ],
   "source": [
    "for j in range(M):\n",
    "    beta = 0\n",
    "    sim2.equilibrate()\n",
    "    for i in range(len(betas)):\n",
    "        beta = betas[i]\n",
    "        sim2.beta = beta\n",
    "        sim2.equilibrate()\n",
    "        m[i,j] = sim2.m()\n",
    "    print(j)\n",
    "m2 = np.average(m**2,axis=1)"
   ]
  },
  {
   "cell_type": "code",
   "execution_count": 8,
   "id": "19ba3334",
   "metadata": {
    "colab": {
     "base_uri": "https://localhost:8080/",
     "height": 279
    },
    "id": "FnPu3APa6fxd",
    "outputId": "73cb93aa-c82d-4415-8658-e10bf6a8f0db"
   },
   "outputs": [
    {
     "data": {
      "image/png": "[encoded data removed]",
      "text/plain": [
       "<Figure size 432x288 with 1 Axes>"
      ]
     },
     "metadata": {
      "needs_background": "light"
     },
     "output_type": "display_data"
    }
   ],
   "source": [
    "plt.scatter(betas,m2)\n",
    "plt.xlabel('beta')\n",
    "plt.ylabel(\"m**2\")\n",
    "plt.show()"
   ]
  }
 ],
 "metadata": {
  "kernelspec": {
   "display_name": "Python 3 (ipykernel)",
   "language": "python",
   "name": "python3"
  },
  "language_info": {
   "codemirror_mode": {
    "name": "ipython",
    "version": 3
   },
   "file_extension": ".py",
   "mimetype": "text/x-python",
   "name": "python",
   "nbconvert_exporter": "python",
   "pygments_lexer": "ipython3",
   "version": "3.10.4"
  }
 },
 "nbformat": 4,
 "nbformat_minor": 5
}
